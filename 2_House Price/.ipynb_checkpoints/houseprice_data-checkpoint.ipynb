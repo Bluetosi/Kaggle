{
 "cells": [
  {
   "cell_type": "code",
   "execution_count": 25,
   "metadata": {},
   "outputs": [],
   "source": [
    "import numpy as np\n",
    "import pandas as pd\n",
    "pd.set_option('display.max_columns', None)\n",
    "import missingno as msno\n",
    "import matplotlib\n",
    "import matplotlib.pyplot as plt\n",
    "import seaborn as sns\n",
    "from scipy import stats\n",
    "\n",
    "from sklearn.linear_model import Ridge, RidgeCV, ElasticNet, ElasticNetCV, LassoCV, LassoLarsCV\n",
    "from sklearn.pipeline import make_pipeline\n",
    "from sklearn.preprocessing import RobustScaler\n",
    "from sklearn.ensemble import GradientBoostingRegressor\n",
    "from sklearn.model_selection import KFold, cross_val_score\n",
    "from sklearn.metrics import mean_squared_error\n",
    "from sklearn.base import BaseEstimator, TransformerMixin, RegressorMixin, clone\n",
    "import xgboost as xgb\n",
    "import lightgbm as lgb\n",
    "\n",
    "# Origin\n",
    "ori_train = pd.read_csv('./Input/train.csv')\n",
    "ori_test = pd.read_csv('./Input/test.csv')\n",
    "\n",
    "# Data Load\n",
    "df_train = pd.read_csv('./Input/train.csv')\n",
    "df_test = pd.read_csv('./Input/test.csv')"
   ]
  },
  {
   "cell_type": "code",
   "execution_count": 60,
   "metadata": {},
   "outputs": [],
   "source": [
    "year = df_train['date'].apply(lambda x: str(x[0:4])).astype(int)\n",
    "mm = df_train['date'].apply(lambda x: str(x[4:6])).astype(int)\n",
    "dd = df_train['date'].apply(lambda x: str(x[6:8])).astype(int)"
   ]
  },
  {
   "cell_type": "code",
   "execution_count": 61,
   "metadata": {},
   "outputs": [],
   "source": [
    "mm = mm * 99//12\n",
    "dd = dd * 99//31"
   ]
  },
  {
   "cell_type": "code",
   "execution_count": 62,
   "metadata": {},
   "outputs": [],
   "source": [
    "year = year.astype(str)\n",
    "mm = mm.astype(str)\n",
    "cnt = 0\n",
    "for k in mm:\n",
    "    if len(k) == 1:\n",
    "        mm[cnt] = '0' + k\n",
    "    cnt+=1\n",
    "dd = dd.astype(str)\n",
    "cnt = 0\n",
    "for k in dd:\n",
    "    if len(k) == 1:\n",
    "        dd[cnt] = '0' + k\n",
    "    cnt+=1"
   ]
  },
  {
   "cell_type": "code",
   "execution_count": 65,
   "metadata": {},
   "outputs": [
    {
     "data": {
      "text/plain": [
       "0        20148241\n",
       "1        20151679\n",
       "2        20151657\n",
       "3        20144986\n",
       "4        20150847\n",
       "5         2015339\n",
       "6        20144186\n",
       "7        20144189\n",
       "8        20148222\n",
       "9        20152438\n",
       "10       20150876\n",
       "11       20145799\n",
       "12       20144192\n",
       "13       20149915\n",
       "14       20153376\n",
       "15       20144144\n",
       "16       20146683\n",
       "17       20144151\n",
       "18       20149063\n",
       "19        2014909\n",
       "20       20144983\n",
       "21        2014993\n",
       "22       20149031\n",
       "23       20144976\n",
       "24       20149031\n",
       "25        2014999\n",
       "26       20144941\n",
       "27       20149995\n",
       "28       20151641\n",
       "29       20144963\n",
       "           ...   \n",
       "15005    20144141\n",
       "15006     2015416\n",
       "15007    20144163\n",
       "15008    20144122\n",
       "15009    20149035\n",
       "15010    20150873\n",
       "15011    20144973\n",
       "15012    20144192\n",
       "15013     2014829\n",
       "15014    20149038\n",
       "15015    20144931\n",
       "15016    20146689\n",
       "15017    20148247\n",
       "15018    20152415\n",
       "15019    20149041\n",
       "15020    20147431\n",
       "15021    20144144\n",
       "15022    20152454\n",
       "15023    20148254\n",
       "15024    20146641\n",
       "15025    20153367\n",
       "15026    20147447\n",
       "15027    20148247\n",
       "15028    20153322\n",
       "15029    20146679\n",
       "15030    20148244\n",
       "15031    20152483\n",
       "15032    20144167\n",
       "15033    20151673\n",
       "15034    20148247\n",
       "Name: date, Length: 15035, dtype: object"
      ]
     },
     "execution_count": 65,
     "metadata": {},
     "output_type": "execute_result"
    }
   ],
   "source": [
    "year+mm+dd"
   ]
  },
  {
   "cell_type": "code",
   "execution_count": 21,
   "metadata": {},
   "outputs": [
    {
     "data": {
      "text/html": [
       "<div>\n",
       "<style scoped>\n",
       "    .dataframe tbody tr th:only-of-type {\n",
       "        vertical-align: middle;\n",
       "    }\n",
       "\n",
       "    .dataframe tbody tr th {\n",
       "        vertical-align: top;\n",
       "    }\n",
       "\n",
       "    .dataframe thead th {\n",
       "        text-align: right;\n",
       "    }\n",
       "</style>\n",
       "<table border=\"1\" class=\"dataframe\">\n",
       "  <thead>\n",
       "    <tr style=\"text-align: right;\">\n",
       "      <th></th>\n",
       "      <th>id</th>\n",
       "      <th>date</th>\n",
       "      <th>price</th>\n",
       "      <th>bedrooms</th>\n",
       "      <th>bathrooms</th>\n",
       "      <th>sqft_living</th>\n",
       "      <th>sqft_lot</th>\n",
       "      <th>floors</th>\n",
       "      <th>waterfront</th>\n",
       "      <th>view</th>\n",
       "      <th>condition</th>\n",
       "      <th>grade</th>\n",
       "      <th>sqft_above</th>\n",
       "      <th>sqft_basement</th>\n",
       "      <th>yr_built</th>\n",
       "      <th>yr_renovated</th>\n",
       "      <th>zipcode</th>\n",
       "      <th>lat</th>\n",
       "      <th>long</th>\n",
       "      <th>sqft_living15</th>\n",
       "      <th>sqft_lot15</th>\n",
       "    </tr>\n",
       "  </thead>\n",
       "  <tbody>\n",
       "    <tr>\n",
       "      <th>456</th>\n",
       "      <td>456</td>\n",
       "      <td>20150113T000000</td>\n",
       "      <td>175000.0</td>\n",
       "      <td>3</td>\n",
       "      <td>1.0</td>\n",
       "      <td>1250</td>\n",
       "      <td>9775</td>\n",
       "      <td>1.0</td>\n",
       "      <td>0</td>\n",
       "      <td>0</td>\n",
       "      <td>3</td>\n",
       "      <td>7</td>\n",
       "      <td>1250</td>\n",
       "      <td>0</td>\n",
       "      <td>1971</td>\n",
       "      <td>0</td>\n",
       "      <td>98045</td>\n",
       "      <td>47.4474</td>\n",
       "      <td>-121.771</td>\n",
       "      <td>1390</td>\n",
       "      <td>9650</td>\n",
       "    </tr>\n",
       "  </tbody>\n",
       "</table>\n",
       "</div>"
      ],
      "text/plain": [
       "      id             date     price  bedrooms  bathrooms  sqft_living  \\\n",
       "456  456  20150113T000000  175000.0         3        1.0         1250   \n",
       "\n",
       "     sqft_lot  floors  waterfront  view  condition  grade  sqft_above  \\\n",
       "456      9775     1.0           0     0          3      7        1250   \n",
       "\n",
       "     sqft_basement  yr_built  yr_renovated  zipcode      lat     long  \\\n",
       "456              0      1971             0    98045  47.4474 -121.771   \n",
       "\n",
       "     sqft_living15  sqft_lot15  \n",
       "456           1390        9650  "
      ]
     },
     "execution_count": 21,
     "metadata": {},
     "output_type": "execute_result"
    }
   ],
   "source": [
    "df_train.loc[(df_train['id'] == 456)]"
   ]
  },
  {
   "cell_type": "code",
   "execution_count": 23,
   "metadata": {},
   "outputs": [
    {
     "data": {
      "text/html": [
       "<div>\n",
       "<style scoped>\n",
       "    .dataframe tbody tr th:only-of-type {\n",
       "        vertical-align: middle;\n",
       "    }\n",
       "\n",
       "    .dataframe tbody tr th {\n",
       "        vertical-align: top;\n",
       "    }\n",
       "\n",
       "    .dataframe thead th {\n",
       "        text-align: right;\n",
       "    }\n",
       "</style>\n",
       "<table border=\"1\" class=\"dataframe\">\n",
       "  <thead>\n",
       "    <tr style=\"text-align: right;\">\n",
       "      <th></th>\n",
       "      <th>id</th>\n",
       "      <th>date</th>\n",
       "      <th>price</th>\n",
       "      <th>bedrooms</th>\n",
       "      <th>bathrooms</th>\n",
       "      <th>sqft_living</th>\n",
       "      <th>sqft_lot</th>\n",
       "      <th>floors</th>\n",
       "      <th>waterfront</th>\n",
       "      <th>view</th>\n",
       "      <th>condition</th>\n",
       "      <th>grade</th>\n",
       "      <th>sqft_above</th>\n",
       "      <th>sqft_basement</th>\n",
       "      <th>yr_built</th>\n",
       "      <th>yr_renovated</th>\n",
       "      <th>zipcode</th>\n",
       "      <th>lat</th>\n",
       "      <th>long</th>\n",
       "      <th>sqft_living15</th>\n",
       "      <th>sqft_lot15</th>\n",
       "    </tr>\n",
       "  </thead>\n",
       "  <tbody>\n",
       "    <tr>\n",
       "      <th>2302</th>\n",
       "      <td>2302</td>\n",
       "      <td>20150225T000000</td>\n",
       "      <td>12.476104</td>\n",
       "      <td>1</td>\n",
       "      <td>0.75</td>\n",
       "      <td>520</td>\n",
       "      <td>12981</td>\n",
       "      <td>1.0</td>\n",
       "      <td>0</td>\n",
       "      <td>0</td>\n",
       "      <td>5</td>\n",
       "      <td>3</td>\n",
       "      <td>520</td>\n",
       "      <td>0</td>\n",
       "      <td>1920</td>\n",
       "      <td>0</td>\n",
       "      <td>98022</td>\n",
       "      <td>47.2082</td>\n",
       "      <td>-121.995</td>\n",
       "      <td>1340</td>\n",
       "      <td>12233</td>\n",
       "    </tr>\n",
       "    <tr>\n",
       "      <th>4123</th>\n",
       "      <td>4123</td>\n",
       "      <td>20141104T000000</td>\n",
       "      <td>12.542548</td>\n",
       "      <td>1</td>\n",
       "      <td>0.00</td>\n",
       "      <td>600</td>\n",
       "      <td>24501</td>\n",
       "      <td>1.0</td>\n",
       "      <td>0</td>\n",
       "      <td>0</td>\n",
       "      <td>2</td>\n",
       "      <td>3</td>\n",
       "      <td>600</td>\n",
       "      <td>0</td>\n",
       "      <td>1950</td>\n",
       "      <td>0</td>\n",
       "      <td>98045</td>\n",
       "      <td>47.5316</td>\n",
       "      <td>-121.749</td>\n",
       "      <td>990</td>\n",
       "      <td>22549</td>\n",
       "    </tr>\n",
       "  </tbody>\n",
       "</table>\n",
       "</div>"
      ],
      "text/plain": [
       "        id             date      price  bedrooms  bathrooms  sqft_living  \\\n",
       "2302  2302  20150225T000000  12.476104         1       0.75          520   \n",
       "4123  4123  20141104T000000  12.542548         1       0.00          600   \n",
       "\n",
       "      sqft_lot  floors  waterfront  view  condition  grade  sqft_above  \\\n",
       "2302     12981     1.0           0     0          5      3         520   \n",
       "4123     24501     1.0           0     0          2      3         600   \n",
       "\n",
       "      sqft_basement  yr_built  yr_renovated  zipcode      lat     long  \\\n",
       "2302              0      1920             0    98022  47.2082 -121.995   \n",
       "4123              0      1950             0    98045  47.5316 -121.749   \n",
       "\n",
       "      sqft_living15  sqft_lot15  \n",
       "2302           1340       12233  \n",
       "4123            990       22549  "
      ]
     },
     "execution_count": 23,
     "metadata": {},
     "output_type": "execute_result"
    }
   ],
   "source": [
    "df_train.loc[(df_train['grade'] == 3) & (df_train['price'] > 0)]"
   ]
  },
  {
   "cell_type": "code",
   "execution_count": 26,
   "metadata": {
    "scrolled": false
   },
   "outputs": [
    {
     "data": {
      "image/png": "[encoded data removed]",
      "text/plain": [
       "<Figure size 864x432 with 1 Axes>"
      ]
     },
     "metadata": {
      "needs_background": "light"
     },
     "output_type": "display_data"
    }
   ],
   "source": [
    "check = pd.concat([df_train['price'], df_train['total_score_cat']], axis=1)\n",
    "f, ax = plt.subplots(figsize=(12, 6))\n",
    "fig = sns.boxplot(x='total_score_cat', y=\"price\", data=check)"
   ]
  },
  {
   "cell_type": "code",
   "execution_count": 6,
   "metadata": {},
   "outputs": [
    {
     "data": {
      "text/html": [
       "<div>\n",
       "<style scoped>\n",
       "    .dataframe tbody tr th:only-of-type {\n",
       "        vertical-align: middle;\n",
       "    }\n",
       "\n",
       "    .dataframe tbody tr th {\n",
       "        vertical-align: top;\n",
       "    }\n",
       "\n",
       "    .dataframe thead th {\n",
       "        text-align: right;\n",
       "    }\n",
       "</style>\n",
       "<table border=\"1\" class=\"dataframe\">\n",
       "  <thead>\n",
       "    <tr style=\"text-align: right;\">\n",
       "      <th></th>\n",
       "      <th>id</th>\n",
       "      <th>date</th>\n",
       "      <th>price</th>\n",
       "      <th>bedrooms</th>\n",
       "      <th>bathrooms</th>\n",
       "      <th>sqft_living</th>\n",
       "      <th>sqft_lot</th>\n",
       "      <th>floors</th>\n",
       "      <th>waterfront</th>\n",
       "      <th>view</th>\n",
       "      <th>condition</th>\n",
       "      <th>grade</th>\n",
       "      <th>sqft_above</th>\n",
       "      <th>sqft_basement</th>\n",
       "      <th>yr_built</th>\n",
       "      <th>yr_renovated</th>\n",
       "      <th>zipcode</th>\n",
       "      <th>lat</th>\n",
       "      <th>long</th>\n",
       "      <th>sqft_living15</th>\n",
       "      <th>sqft_lot15</th>\n",
       "      <th>is_renovated</th>\n",
       "      <th>totalrooms</th>\n",
       "      <th>sqft_living_floor</th>\n",
       "      <th>lot_living_ratio</th>\n",
       "      <th>living15_ratio</th>\n",
       "      <th>lot15_ratio</th>\n",
       "      <th>lat_cat</th>\n",
       "      <th>long_cat</th>\n",
       "      <th>grade_cat</th>\n",
       "      <th>out_score_cat</th>\n",
       "      <th>in_score_cat</th>\n",
       "      <th>total_score_cat</th>\n",
       "      <th>bedrooms_score_cat</th>\n",
       "      <th>bathrrooms_score_cat</th>\n",
       "      <th>totalrooms_score_cat</th>\n",
       "    </tr>\n",
       "  </thead>\n",
       "  <tbody>\n",
       "    <tr>\n",
       "      <th>7285</th>\n",
       "      <td>7285</td>\n",
       "      <td>2014-12-30 00:00:00</td>\n",
       "      <td>13.997833</td>\n",
       "      <td>3</td>\n",
       "      <td>2.0</td>\n",
       "      <td>2480</td>\n",
       "      <td>13310</td>\n",
       "      <td>1.0</td>\n",
       "      <td>0</td>\n",
       "      <td>0</td>\n",
       "      <td>2</td>\n",
       "      <td>7</td>\n",
       "      <td>2480</td>\n",
       "      <td>0</td>\n",
       "      <td>1955</td>\n",
       "      <td>1955</td>\n",
       "      <td>98052</td>\n",
       "      <td>47.6759</td>\n",
       "      <td>-122.114</td>\n",
       "      <td>2400</td>\n",
       "      <td>11340</td>\n",
       "      <td>0</td>\n",
       "      <td>5.0</td>\n",
       "      <td>2480.0</td>\n",
       "      <td>0.186326</td>\n",
       "      <td>1.033333</td>\n",
       "      <td>1.173721</td>\n",
       "      <td>5</td>\n",
       "      <td>4</td>\n",
       "      <td>3</td>\n",
       "      <td>3</td>\n",
       "      <td>6</td>\n",
       "      <td>9</td>\n",
       "      <td>9</td>\n",
       "      <td>6</td>\n",
       "      <td>15</td>\n",
       "    </tr>\n",
       "  </tbody>\n",
       "</table>\n",
       "</div>"
      ],
      "text/plain": [
       "        id                 date      price  bedrooms  bathrooms  sqft_living  \\\n",
       "7285  7285  2014-12-30 00:00:00  13.997833         3        2.0         2480   \n",
       "\n",
       "      sqft_lot  floors  waterfront  view  condition  grade  sqft_above  \\\n",
       "7285     13310     1.0           0     0          2      7        2480   \n",
       "\n",
       "      sqft_basement  yr_built  yr_renovated  zipcode      lat     long  \\\n",
       "7285              0      1955          1955    98052  47.6759 -122.114   \n",
       "\n",
       "      sqft_living15  sqft_lot15  is_renovated  totalrooms  sqft_living_floor  \\\n",
       "7285           2400       11340             0         5.0             2480.0   \n",
       "\n",
       "      lot_living_ratio  living15_ratio  lot15_ratio lat_cat long_cat  \\\n",
       "7285          0.186326        1.033333     1.173721       5        4   \n",
       "\n",
       "     grade_cat out_score_cat in_score_cat total_score_cat bedrooms_score_cat  \\\n",
       "7285         3             3            6               9                  9   \n",
       "\n",
       "     bathrrooms_score_cat totalrooms_score_cat  \n",
       "7285                    6                   15  "
      ]
     },
     "execution_count": 6,
     "metadata": {},
     "output_type": "execute_result"
    }
   ],
   "source": [
    "df_train.loc[(df_train['total_score_cat'] == 9) & (df_train['price'] > 13.8)]"
   ]
  },
  {
   "cell_type": "code",
   "execution_count": 39,
   "metadata": {},
   "outputs": [
    {
     "data": {
      "image/png": "[encoded data removed]",
      "text/plain": [
       "<Figure size 576x432 with 1 Axes>"
      ]
     },
     "metadata": {
      "needs_background": "light"
     },
     "output_type": "display_data"
    }
   ],
   "source": [
    "data = pd.concat([df_train['price'], df_train['sqft_living']], axis=1)\n",
    "f, ax = plt.subplots(figsize=(8, 6))\n",
    "fig = sns.regplot(x='sqft_living', y=\"price\", data=data)"
   ]
  },
  {
   "cell_type": "code",
   "execution_count": 38,
   "metadata": {},
   "outputs": [
    {
     "data": {
      "text/html": [
       "<div>\n",
       "<style scoped>\n",
       "    .dataframe tbody tr th:only-of-type {\n",
       "        vertical-align: middle;\n",
       "    }\n",
       "\n",
       "    .dataframe tbody tr th {\n",
       "        vertical-align: top;\n",
       "    }\n",
       "\n",
       "    .dataframe thead th {\n",
       "        text-align: right;\n",
       "    }\n",
       "</style>\n",
       "<table border=\"1\" class=\"dataframe\">\n",
       "  <thead>\n",
       "    <tr style=\"text-align: right;\">\n",
       "      <th></th>\n",
       "      <th>id</th>\n",
       "      <th>date</th>\n",
       "      <th>price</th>\n",
       "      <th>bedrooms</th>\n",
       "      <th>bathrooms</th>\n",
       "      <th>sqft_living</th>\n",
       "      <th>sqft_lot</th>\n",
       "      <th>floors</th>\n",
       "      <th>waterfront</th>\n",
       "      <th>view</th>\n",
       "      <th>condition</th>\n",
       "      <th>grade</th>\n",
       "      <th>sqft_above</th>\n",
       "      <th>sqft_basement</th>\n",
       "      <th>yr_built</th>\n",
       "      <th>yr_renovated</th>\n",
       "      <th>zipcode</th>\n",
       "      <th>lat</th>\n",
       "      <th>long</th>\n",
       "      <th>sqft_living15</th>\n",
       "      <th>sqft_lot15</th>\n",
       "      <th>is_renovated</th>\n",
       "      <th>totalrooms</th>\n",
       "      <th>sqft_living_floor</th>\n",
       "      <th>living15_ratio</th>\n",
       "      <th>lot15_ratio</th>\n",
       "      <th>lat_cat</th>\n",
       "      <th>long_cat</th>\n",
       "      <th>grade_cat</th>\n",
       "      <th>out_score_cat</th>\n",
       "      <th>in_score_cat</th>\n",
       "      <th>total_score_cat</th>\n",
       "      <th>bedrooms_score_cat</th>\n",
       "      <th>bathrrooms_score_cat</th>\n",
       "      <th>totalrooms_score_cat</th>\n",
       "    </tr>\n",
       "  </thead>\n",
       "  <tbody>\n",
       "    <tr>\n",
       "      <th>8912</th>\n",
       "      <td>8912</td>\n",
       "      <td>2014-05-05 00:00:00</td>\n",
       "      <td>14.639686</td>\n",
       "      <td>7</td>\n",
       "      <td>8.0</td>\n",
       "      <td>13540</td>\n",
       "      <td>307752</td>\n",
       "      <td>3.0</td>\n",
       "      <td>0</td>\n",
       "      <td>4</td>\n",
       "      <td>3</td>\n",
       "      <td>12</td>\n",
       "      <td>9410</td>\n",
       "      <td>4130</td>\n",
       "      <td>1999</td>\n",
       "      <td>1999</td>\n",
       "      <td>98053</td>\n",
       "      <td>47.6675</td>\n",
       "      <td>-121.986</td>\n",
       "      <td>4850</td>\n",
       "      <td>217800</td>\n",
       "      <td>0</td>\n",
       "      <td>15.0</td>\n",
       "      <td>3136.666667</td>\n",
       "      <td>2.791753</td>\n",
       "      <td>1.413003</td>\n",
       "      <td>5</td>\n",
       "      <td>5</td>\n",
       "      <td>5</td>\n",
       "      <td>25</td>\n",
       "      <td>15</td>\n",
       "      <td>40</td>\n",
       "      <td>35</td>\n",
       "      <td>40</td>\n",
       "      <td>75</td>\n",
       "    </tr>\n",
       "  </tbody>\n",
       "</table>\n",
       "</div>"
      ],
      "text/plain": [
       "        id                 date      price  bedrooms  bathrooms  sqft_living  \\\n",
       "8912  8912  2014-05-05 00:00:00  14.639686         7        8.0        13540   \n",
       "\n",
       "      sqft_lot  floors  waterfront  view  condition  grade  sqft_above  \\\n",
       "8912    307752     3.0           0     4          3     12        9410   \n",
       "\n",
       "      sqft_basement  yr_built  yr_renovated  zipcode      lat     long  \\\n",
       "8912           4130      1999          1999    98053  47.6675 -121.986   \n",
       "\n",
       "      sqft_living15  sqft_lot15  is_renovated  totalrooms  sqft_living_floor  \\\n",
       "8912           4850      217800             0        15.0        3136.666667   \n",
       "\n",
       "      living15_ratio  lot15_ratio lat_cat long_cat grade_cat out_score_cat  \\\n",
       "8912        2.791753     1.413003       5        5         5            25   \n",
       "\n",
       "     in_score_cat total_score_cat bedrooms_score_cat bathrrooms_score_cat  \\\n",
       "8912           15              40                 35                   40   \n",
       "\n",
       "     totalrooms_score_cat  \n",
       "8912                   75  "
      ]
     },
     "execution_count": 38,
     "metadata": {},
     "output_type": "execute_result"
    }
   ],
   "source": [
    "df_train.loc[df_train['sqft_living'] > 13000]"
   ]
  },
  {
   "cell_type": "code",
   "execution_count": 45,
   "metadata": {},
   "outputs": [
    {
     "data": {
      "image/png": "[encoded data removed]",
      "text/plain": [
       "<Figure size 576x432 with 1 Axes>"
      ]
     },
     "metadata": {
      "needs_background": "light"
     },
     "output_type": "display_data"
    }
   ],
   "source": [
    "data = pd.concat([df_train['price'], df_train['lot_living_ratio']], axis=1)\n",
    "f, ax = plt.subplots(figsize=(8, 6))\n",
    "fig = sns.regplot(x='lot_living_ratio', y=\"price\", data=data)"
   ]
  },
  {
   "cell_type": "code",
   "execution_count": 47,
   "metadata": {},
   "outputs": [
    {
     "data": {
      "text/html": [
       "<div>\n",
       "<style scoped>\n",
       "    .dataframe tbody tr th:only-of-type {\n",
       "        vertical-align: middle;\n",
       "    }\n",
       "\n",
       "    .dataframe tbody tr th {\n",
       "        vertical-align: top;\n",
       "    }\n",
       "\n",
       "    .dataframe thead th {\n",
       "        text-align: right;\n",
       "    }\n",
       "</style>\n",
       "<table border=\"1\" class=\"dataframe\">\n",
       "  <thead>\n",
       "    <tr style=\"text-align: right;\">\n",
       "      <th></th>\n",
       "      <th>id</th>\n",
       "      <th>date</th>\n",
       "      <th>price</th>\n",
       "      <th>bedrooms</th>\n",
       "      <th>bathrooms</th>\n",
       "      <th>sqft_living</th>\n",
       "      <th>sqft_lot</th>\n",
       "      <th>floors</th>\n",
       "      <th>waterfront</th>\n",
       "      <th>view</th>\n",
       "      <th>condition</th>\n",
       "      <th>grade</th>\n",
       "      <th>sqft_above</th>\n",
       "      <th>sqft_basement</th>\n",
       "      <th>yr_built</th>\n",
       "      <th>yr_renovated</th>\n",
       "      <th>zipcode</th>\n",
       "      <th>lat</th>\n",
       "      <th>long</th>\n",
       "      <th>sqft_living15</th>\n",
       "      <th>sqft_lot15</th>\n",
       "      <th>is_renovated</th>\n",
       "      <th>totalrooms</th>\n",
       "      <th>sqft_living_floor</th>\n",
       "      <th>lot_living_ratio</th>\n",
       "      <th>living15_ratio</th>\n",
       "      <th>lot15_ratio</th>\n",
       "      <th>lat_cat</th>\n",
       "      <th>long_cat</th>\n",
       "      <th>grade_cat</th>\n",
       "      <th>out_score_cat</th>\n",
       "      <th>in_score_cat</th>\n",
       "      <th>total_score_cat</th>\n",
       "      <th>bedrooms_score_cat</th>\n",
       "      <th>bathrrooms_score_cat</th>\n",
       "      <th>totalrooms_score_cat</th>\n",
       "    </tr>\n",
       "  </thead>\n",
       "  <tbody>\n",
       "    <tr>\n",
       "      <th>2464</th>\n",
       "      <td>2464</td>\n",
       "      <td>2015-04-22 00:00:00</td>\n",
       "      <td>14.026234</td>\n",
       "      <td>2</td>\n",
       "      <td>2.50</td>\n",
       "      <td>2470</td>\n",
       "      <td>609</td>\n",
       "      <td>3.0</td>\n",
       "      <td>0</td>\n",
       "      <td>0</td>\n",
       "      <td>3</td>\n",
       "      <td>11</td>\n",
       "      <td>1910</td>\n",
       "      <td>560</td>\n",
       "      <td>2011</td>\n",
       "      <td>2011</td>\n",
       "      <td>98112</td>\n",
       "      <td>47.6182</td>\n",
       "      <td>-122.312</td>\n",
       "      <td>2440</td>\n",
       "      <td>1229</td>\n",
       "      <td>0</td>\n",
       "      <td>4.50</td>\n",
       "      <td>636.666667</td>\n",
       "      <td>1.045430</td>\n",
       "      <td>1.012295</td>\n",
       "      <td>0.495525</td>\n",
       "      <td>5</td>\n",
       "      <td>2</td>\n",
       "      <td>5</td>\n",
       "      <td>5</td>\n",
       "      <td>15</td>\n",
       "      <td>20</td>\n",
       "      <td>10</td>\n",
       "      <td>12.5</td>\n",
       "      <td>22.5</td>\n",
       "    </tr>\n",
       "    <tr>\n",
       "      <th>10987</th>\n",
       "      <td>10987</td>\n",
       "      <td>2014-10-22 00:00:00</td>\n",
       "      <td>13.458837</td>\n",
       "      <td>4</td>\n",
       "      <td>1.75</td>\n",
       "      <td>2420</td>\n",
       "      <td>520</td>\n",
       "      <td>1.5</td>\n",
       "      <td>0</td>\n",
       "      <td>0</td>\n",
       "      <td>3</td>\n",
       "      <td>7</td>\n",
       "      <td>2420</td>\n",
       "      <td>0</td>\n",
       "      <td>1900</td>\n",
       "      <td>1900</td>\n",
       "      <td>98112</td>\n",
       "      <td>47.6209</td>\n",
       "      <td>-122.302</td>\n",
       "      <td>1200</td>\n",
       "      <td>1170</td>\n",
       "      <td>0</td>\n",
       "      <td>5.75</td>\n",
       "      <td>1613.333333</td>\n",
       "      <td>3.102564</td>\n",
       "      <td>2.016667</td>\n",
       "      <td>0.444444</td>\n",
       "      <td>5</td>\n",
       "      <td>2</td>\n",
       "      <td>3</td>\n",
       "      <td>3</td>\n",
       "      <td>9</td>\n",
       "      <td>12</td>\n",
       "      <td>12</td>\n",
       "      <td>5.25</td>\n",
       "      <td>17.25</td>\n",
       "    </tr>\n",
       "    <tr>\n",
       "      <th>12104</th>\n",
       "      <td>12104</td>\n",
       "      <td>2014-07-08 00:00:00</td>\n",
       "      <td>13.180634</td>\n",
       "      <td>2</td>\n",
       "      <td>2.50</td>\n",
       "      <td>1785</td>\n",
       "      <td>779</td>\n",
       "      <td>2.0</td>\n",
       "      <td>0</td>\n",
       "      <td>0</td>\n",
       "      <td>3</td>\n",
       "      <td>7</td>\n",
       "      <td>1595</td>\n",
       "      <td>190</td>\n",
       "      <td>1975</td>\n",
       "      <td>1975</td>\n",
       "      <td>98004</td>\n",
       "      <td>47.5959</td>\n",
       "      <td>-122.198</td>\n",
       "      <td>1780</td>\n",
       "      <td>794</td>\n",
       "      <td>0</td>\n",
       "      <td>4.50</td>\n",
       "      <td>797.500000</td>\n",
       "      <td>1.023748</td>\n",
       "      <td>1.002809</td>\n",
       "      <td>0.981108</td>\n",
       "      <td>4</td>\n",
       "      <td>4</td>\n",
       "      <td>3</td>\n",
       "      <td>3</td>\n",
       "      <td>9</td>\n",
       "      <td>12</td>\n",
       "      <td>6</td>\n",
       "      <td>7.5</td>\n",
       "      <td>13.5</td>\n",
       "    </tr>\n",
       "  </tbody>\n",
       "</table>\n",
       "</div>"
      ],
      "text/plain": [
       "          id                 date      price  bedrooms  bathrooms  \\\n",
       "2464    2464  2015-04-22 00:00:00  14.026234         2       2.50   \n",
       "10987  10987  2014-10-22 00:00:00  13.458837         4       1.75   \n",
       "12104  12104  2014-07-08 00:00:00  13.180634         2       2.50   \n",
       "\n",
       "       sqft_living  sqft_lot  floors  waterfront  view  condition  grade  \\\n",
       "2464          2470       609     3.0           0     0          3     11   \n",
       "10987         2420       520     1.5           0     0          3      7   \n",
       "12104         1785       779     2.0           0     0          3      7   \n",
       "\n",
       "       sqft_above  sqft_basement  yr_built  yr_renovated  zipcode      lat  \\\n",
       "2464         1910            560      2011          2011    98112  47.6182   \n",
       "10987        2420              0      1900          1900    98112  47.6209   \n",
       "12104        1595            190      1975          1975    98004  47.5959   \n",
       "\n",
       "          long  sqft_living15  sqft_lot15  is_renovated  totalrooms  \\\n",
       "2464  -122.312           2440        1229             0        4.50   \n",
       "10987 -122.302           1200        1170             0        5.75   \n",
       "12104 -122.198           1780         794             0        4.50   \n",
       "\n",
       "       sqft_living_floor  lot_living_ratio  living15_ratio  lot15_ratio  \\\n",
       "2464          636.666667          1.045430        1.012295     0.495525   \n",
       "10987        1613.333333          3.102564        2.016667     0.444444   \n",
       "12104         797.500000          1.023748        1.002809     0.981108   \n",
       "\n",
       "      lat_cat long_cat grade_cat out_score_cat in_score_cat total_score_cat  \\\n",
       "2464        5        2         5             5           15              20   \n",
       "10987       5        2         3             3            9              12   \n",
       "12104       4        4         3             3            9              12   \n",
       "\n",
       "      bedrooms_score_cat bathrrooms_score_cat totalrooms_score_cat  \n",
       "2464                  10                 12.5                 22.5  \n",
       "10987                 12                 5.25                17.25  \n",
       "12104                  6                  7.5                 13.5  "
      ]
     },
     "execution_count": 47,
     "metadata": {},
     "output_type": "execute_result"
    }
   ],
   "source": [
    "df_train.loc[df_train['lot_living_ratio'] > 1]"
   ]
  },
  {
   "cell_type": "code",
   "execution_count": 20,
   "metadata": {},
   "outputs": [
    {
     "data": {
      "text/html": [
       "<div>\n",
       "<style scoped>\n",
       "    .dataframe tbody tr th:only-of-type {\n",
       "        vertical-align: middle;\n",
       "    }\n",
       "\n",
       "    .dataframe tbody tr th {\n",
       "        vertical-align: top;\n",
       "    }\n",
       "\n",
       "    .dataframe thead th {\n",
       "        text-align: right;\n",
       "    }\n",
       "</style>\n",
       "<table border=\"1\" class=\"dataframe\">\n",
       "  <thead>\n",
       "    <tr style=\"text-align: right;\">\n",
       "      <th></th>\n",
       "      <th>id</th>\n",
       "      <th>date</th>\n",
       "      <th>price</th>\n",
       "      <th>bedrooms</th>\n",
       "      <th>bathrooms</th>\n",
       "      <th>sqft_living</th>\n",
       "      <th>sqft_lot</th>\n",
       "      <th>floors</th>\n",
       "      <th>waterfront</th>\n",
       "      <th>view</th>\n",
       "      <th>condition</th>\n",
       "      <th>grade</th>\n",
       "      <th>sqft_above</th>\n",
       "      <th>sqft_basement</th>\n",
       "      <th>yr_built</th>\n",
       "      <th>yr_renovated</th>\n",
       "      <th>zipcode</th>\n",
       "      <th>lat</th>\n",
       "      <th>long</th>\n",
       "      <th>sqft_living15</th>\n",
       "      <th>sqft_lot15</th>\n",
       "    </tr>\n",
       "  </thead>\n",
       "  <tbody>\n",
       "    <tr>\n",
       "      <th>0</th>\n",
       "      <td>0</td>\n",
       "      <td>20141013T000000</td>\n",
       "      <td>221900.0</td>\n",
       "      <td>3</td>\n",
       "      <td>1.00</td>\n",
       "      <td>1180</td>\n",
       "      <td>5650</td>\n",
       "      <td>1.0</td>\n",
       "      <td>0</td>\n",
       "      <td>0</td>\n",
       "      <td>3</td>\n",
       "      <td>7</td>\n",
       "      <td>1180</td>\n",
       "      <td>0</td>\n",
       "      <td>1955</td>\n",
       "      <td>0</td>\n",
       "      <td>98178</td>\n",
       "      <td>47.5112</td>\n",
       "      <td>-122.257</td>\n",
       "      <td>1340</td>\n",
       "      <td>5650</td>\n",
       "    </tr>\n",
       "    <tr>\n",
       "      <th>1</th>\n",
       "      <td>1</td>\n",
       "      <td>20150225T000000</td>\n",
       "      <td>180000.0</td>\n",
       "      <td>2</td>\n",
       "      <td>1.00</td>\n",
       "      <td>770</td>\n",
       "      <td>10000</td>\n",
       "      <td>1.0</td>\n",
       "      <td>0</td>\n",
       "      <td>0</td>\n",
       "      <td>3</td>\n",
       "      <td>6</td>\n",
       "      <td>770</td>\n",
       "      <td>0</td>\n",
       "      <td>1933</td>\n",
       "      <td>0</td>\n",
       "      <td>98028</td>\n",
       "      <td>47.7379</td>\n",
       "      <td>-122.233</td>\n",
       "      <td>2720</td>\n",
       "      <td>8062</td>\n",
       "    </tr>\n",
       "    <tr>\n",
       "      <th>2</th>\n",
       "      <td>2</td>\n",
       "      <td>20150218T000000</td>\n",
       "      <td>510000.0</td>\n",
       "      <td>3</td>\n",
       "      <td>2.00</td>\n",
       "      <td>1680</td>\n",
       "      <td>8080</td>\n",
       "      <td>1.0</td>\n",
       "      <td>0</td>\n",
       "      <td>0</td>\n",
       "      <td>3</td>\n",
       "      <td>8</td>\n",
       "      <td>1680</td>\n",
       "      <td>0</td>\n",
       "      <td>1987</td>\n",
       "      <td>0</td>\n",
       "      <td>98074</td>\n",
       "      <td>47.6168</td>\n",
       "      <td>-122.045</td>\n",
       "      <td>1800</td>\n",
       "      <td>7503</td>\n",
       "    </tr>\n",
       "    <tr>\n",
       "      <th>3</th>\n",
       "      <td>3</td>\n",
       "      <td>20140627T000000</td>\n",
       "      <td>257500.0</td>\n",
       "      <td>3</td>\n",
       "      <td>2.25</td>\n",
       "      <td>1715</td>\n",
       "      <td>6819</td>\n",
       "      <td>2.0</td>\n",
       "      <td>0</td>\n",
       "      <td>0</td>\n",
       "      <td>3</td>\n",
       "      <td>7</td>\n",
       "      <td>1715</td>\n",
       "      <td>0</td>\n",
       "      <td>1995</td>\n",
       "      <td>0</td>\n",
       "      <td>98003</td>\n",
       "      <td>47.3097</td>\n",
       "      <td>-122.327</td>\n",
       "      <td>2238</td>\n",
       "      <td>6819</td>\n",
       "    </tr>\n",
       "    <tr>\n",
       "      <th>4</th>\n",
       "      <td>4</td>\n",
       "      <td>20150115T000000</td>\n",
       "      <td>291850.0</td>\n",
       "      <td>3</td>\n",
       "      <td>1.50</td>\n",
       "      <td>1060</td>\n",
       "      <td>9711</td>\n",
       "      <td>1.0</td>\n",
       "      <td>0</td>\n",
       "      <td>0</td>\n",
       "      <td>3</td>\n",
       "      <td>7</td>\n",
       "      <td>1060</td>\n",
       "      <td>0</td>\n",
       "      <td>1963</td>\n",
       "      <td>0</td>\n",
       "      <td>98198</td>\n",
       "      <td>47.4095</td>\n",
       "      <td>-122.315</td>\n",
       "      <td>1650</td>\n",
       "      <td>9711</td>\n",
       "    </tr>\n",
       "  </tbody>\n",
       "</table>\n",
       "</div>"
      ],
      "text/plain": [
       "   id             date     price  bedrooms  bathrooms  sqft_living  sqft_lot  \\\n",
       "0   0  20141013T000000  221900.0         3       1.00         1180      5650   \n",
       "1   1  20150225T000000  180000.0         2       1.00          770     10000   \n",
       "2   2  20150218T000000  510000.0         3       2.00         1680      8080   \n",
       "3   3  20140627T000000  257500.0         3       2.25         1715      6819   \n",
       "4   4  20150115T000000  291850.0         3       1.50         1060      9711   \n",
       "\n",
       "   floors  waterfront  view  condition  grade  sqft_above  sqft_basement  \\\n",
       "0     1.0           0     0          3      7        1180              0   \n",
       "1     1.0           0     0          3      6         770              0   \n",
       "2     1.0           0     0          3      8        1680              0   \n",
       "3     2.0           0     0          3      7        1715              0   \n",
       "4     1.0           0     0          3      7        1060              0   \n",
       "\n",
       "   yr_built  yr_renovated  zipcode      lat     long  sqft_living15  \\\n",
       "0      1955             0    98178  47.5112 -122.257           1340   \n",
       "1      1933             0    98028  47.7379 -122.233           2720   \n",
       "2      1987             0    98074  47.6168 -122.045           1800   \n",
       "3      1995             0    98003  47.3097 -122.327           2238   \n",
       "4      1963             0    98198  47.4095 -122.315           1650   \n",
       "\n",
       "   sqft_lot15  \n",
       "0        5650  \n",
       "1        8062  \n",
       "2        7503  \n",
       "3        6819  \n",
       "4        9711  "
      ]
     },
     "execution_count": 20,
     "metadata": {},
     "output_type": "execute_result"
    }
   ],
   "source": [
    "# 데이터 확인\n",
    "df_train.head(5)"
   ]
  },
  {
   "cell_type": "code",
   "execution_count": 21,
   "metadata": {},
   "outputs": [
    {
     "name": "stdout",
     "output_type": "stream",
     "text": [
      "There are 0 duplicate IDs for 15035 total entries\n"
     ]
    }
   ],
   "source": [
    "# 중복 확인\n",
    "idsUnique = len(set(df_train.id))\n",
    "idsTotal = df_train.shape[0]\n",
    "idsDupli = idsTotal - idsUnique\n",
    "print(\"There are \" + str(idsDupli) + \" duplicate IDs for \" + str(idsTotal) + \" total entries\")"
   ]
  },
  {
   "cell_type": "code",
   "execution_count": 3,
   "metadata": {},
   "outputs": [],
   "source": [
    "# ID 제거\n",
    "df_train.drop(\"id\", axis = 1, inplace = True)"
   ]
  },
  {
   "cell_type": "code",
   "execution_count": 5,
   "metadata": {
    "scrolled": false
   },
   "outputs": [
    {
     "data": {
      "text/plain": [
       "array([[<matplotlib.axes._subplots.AxesSubplot object at 0x000001F1C51DD940>,\n",
       "        <matplotlib.axes._subplots.AxesSubplot object at 0x000001F1C5203DA0>]],\n",
       "      dtype=object)"
      ]
     },
     "execution_count": 5,
     "metadata": {},
     "output_type": "execute_result"
    },
    {
     "data": {
      "image/png": "[encoded data removed]",
      "text/plain": [
       "<Figure size 864x432 with 2 Axes>"
      ]
     },
     "metadata": {
      "needs_background": "light"
     },
     "output_type": "display_data"
    }
   ],
   "source": [
    "# 가격 분포\n",
    "matplotlib.rcParams['figure.figsize'] = (12.0, 6.0)\n",
    "prices = pd.DataFrame({\"price\":df_train[\"price\"], \"log(price + 1)\":np.log1p(df_train[\"price\"])})\n",
    "prices.hist()"
   ]
  },
  {
   "cell_type": "code",
   "execution_count": 3,
   "metadata": {},
   "outputs": [],
   "source": [
    "# 가격 정규화 (np.log1p)\n",
    "df_train['price'] = df_train['price'].map(lambda x: np.log1p(x))"
   ]
  },
  {
   "cell_type": "code",
   "execution_count": 6,
   "metadata": {},
   "outputs": [
    {
     "data": {
      "text/plain": [
       "count    15035.000000\n",
       "mean     98078.031726\n",
       "std         53.297815\n",
       "min      98001.000000\n",
       "25%      98033.000000\n",
       "50%      98065.000000\n",
       "75%      98117.000000\n",
       "max      98199.000000\n",
       "Name: zipcode, dtype: float64"
      ]
     },
     "execution_count": 6,
     "metadata": {},
     "output_type": "execute_result"
    }
   ],
   "source": [
    "df_train['zipcode'].describe()"
   ]
  },
  {
   "cell_type": "code",
   "execution_count": 10,
   "metadata": {},
   "outputs": [],
   "source": [
    "# 위도 단순화\n",
    "def category_zipcode(x):\n",
    "    if x < 98020:\n",
    "        return 0    \n",
    "    elif x < 98040:\n",
    "        return 1\n",
    "    elif x < 98060:\n",
    "        return 2\n",
    "    elif x < 98080:\n",
    "        return 3\n",
    "    elif x < 98100:\n",
    "        return 4\n",
    "    elif x < 98120:\n",
    "        return 5\n",
    "    elif x < 98140:\n",
    "        return 6\n",
    "    elif x < 98160:\n",
    "        return 7\n",
    "    elif x < 98180:\n",
    "        return 8\n",
    "    else:\n",
    "        return 9\n",
    "    \n",
    "df_train['zipcode_cat'] = df_train['zipcode'].apply(category_zipcode)"
   ]
  },
  {
   "cell_type": "code",
   "execution_count": 13,
   "metadata": {},
   "outputs": [
    {
     "data": {
      "image/png": "[encoded data removed]",
      "text/plain": [
       "<Figure size 864x432 with 1 Axes>"
      ]
     },
     "metadata": {
      "needs_background": "light"
     },
     "output_type": "display_data"
    }
   ],
   "source": [
    "check = pd.concat([df_train['price'], df_train['zipcode_cat']], axis=1)\n",
    "f, ax = plt.subplots(figsize=(12, 6))\n",
    "fig = sns.boxplot(x='zipcode_cat', y=\"price\", data=check)"
   ]
  },
  {
   "cell_type": "code",
   "execution_count": null,
   "metadata": {},
   "outputs": [],
   "source": []
  },
  {
   "cell_type": "code",
   "execution_count": 24,
   "metadata": {},
   "outputs": [],
   "source": [
    "object_feats = ['bedrooms', 'bathrooms', 'floors', 'waterfront', 'view', 'condition', 'grade']\n",
    "df_train[object_feats] = df_train[object_feats].astype('object')"
   ]
  },
  {
   "cell_type": "code",
   "execution_count": 4,
   "metadata": {},
   "outputs": [],
   "source": [
    "### 기존 데이터 처리\n",
    "# 거래 날짜\n",
    "df_train['date'] = pd.to_datetime(df_train['date'].apply(lambda x: str(x[0:8])), yearfirst=True).astype('object')\n",
    "df_test['date'] = pd.to_datetime(df_test['date'].apply(lambda x: str(x[0:8])), yearfirst=True).astype('object')\n",
    "\n",
    "# 재건축 여부\n",
    "df_train['is_renovated'] = df_train['yr_renovated'].map(lambda x: 1 if x > 0 else 0)\n",
    "df_test['is_renovated'] = df_test['yr_renovated'].map(lambda x: 1 if x > 0 else 0)\n",
    "\n",
    "# 최신 건축 년도\n",
    "df_train['yr_renovated'] = np.maximum(df_train['yr_built'], df_train['yr_renovated'])\n",
    "df_test['yr_renovated'] = np.maximum(df_test['yr_built'], df_test['yr_renovated'])\n",
    "\n",
    "### 새로운 데이터 생성\n",
    "# 방의 총 갯수\n",
    "df_train['totalrooms'] = df_train['bedrooms'] + df_train['bathrooms']\n",
    "df_test['totalrooms'] = df_test['bedrooms'] + df_test['bathrooms']\n",
    "\n",
    "# 층 별 주거공간\n",
    "df_train['sqft_living_floor'] = df_train['sqft_above'] / df_train['floors']\n",
    "df_test['sqft_living_floor'] = df_test['sqft_above'] / df_test['floors']\n",
    "\n",
    "# 부지 대비 건물 면적 비율\n",
    "df_train['lot_living_ratio'] = df_train['sqft_living_floor']/df_train['sqft_lot']\n",
    "df_test['lot_living_ratio'] = df_test['sqft_living_floor']/df_test['sqft_lot']\n",
    "\n",
    "# 평균 대비 주거공간 비율\n",
    "df_train['living15_ratio'] = df_train['sqft_living'] / df_train['sqft_living15']\n",
    "df_test['living15_ratio'] = df_test['sqft_living'] / df_test['sqft_living15']\n",
    "\n",
    "# 평균 대비 부지 비율\n",
    "df_train['lot15_ratio'] = df_train['sqft_lot'] / df_train['sqft_lot15']\n",
    "df_test['lot15_ratio'] = df_test['sqft_lot'] / df_test['sqft_lot15']\n",
    "\n",
    "# 위도 단순화\n",
    "def category_lat(x):\n",
    "    if x < 47.2:\n",
    "        return 0    \n",
    "    elif x < 47.3:\n",
    "        return 1\n",
    "    elif x < 47.4:\n",
    "        return 2\n",
    "    elif x < 47.5:\n",
    "        return 3\n",
    "    elif x < 47.6:\n",
    "        return 4\n",
    "    elif x < 47.7:\n",
    "        return 5\n",
    "    else:\n",
    "        return 6\n",
    "    \n",
    "df_train['lat_cat'] = df_train['lat'].apply(category_lat).astype('object')\n",
    "df_test['lat_cat'] = df_test['lat'].apply(category_lat).astype('object')\n",
    "\n",
    "# 경도 단순화\n",
    "def category_long(x):\n",
    "    if x < -122.5:\n",
    "        return 0    \n",
    "    elif x < -122.4:\n",
    "        return 1\n",
    "    elif x < -122.3:\n",
    "        return 2\n",
    "    elif x < -122.2:\n",
    "        return 3\n",
    "    elif x < -122.1:\n",
    "        return 4\n",
    "    else:\n",
    "        return 5\n",
    "    \n",
    "df_train['long_cat'] = df_train['long'].apply(category_long).astype('object')\n",
    "df_test['long_cat'] = df_test['long'].apply(category_long).astype('object')\n",
    "\n",
    "# 등급 단순화\n",
    "def category_grade(x):\n",
    "    if x < 4:\n",
    "        return 1\n",
    "    elif x < 7:\n",
    "        return 2\n",
    "    elif x < 9:\n",
    "        return 3\n",
    "    elif x < 11:\n",
    "        return 4    \n",
    "    else:\n",
    "        return 5\n",
    "    \n",
    "df_train['grade_cat'] = df_train['grade'].apply(category_grade).astype('object')\n",
    "df_test['grade_cat'] = df_test['grade'].apply(category_grade).astype('object')\n",
    "\n",
    "# 외관 점수 (cat)\n",
    "df_train['out_score_cat'] = (df_train['view']+1) * df_train['grade_cat']\n",
    "df_test['out_score_cat'] = (df_test['view']+1) * df_test['grade_cat']\n",
    "\n",
    "# 내관 점수 (cat)\n",
    "df_train['in_score_cat'] = df_train['condition'] * df_train['grade_cat']\n",
    "df_test['in_score_cat'] = df_test['condition'] * df_test['grade_cat']\n",
    "\n",
    "# 총괄 점수 (cat)\n",
    "df_train['total_score_cat'] = df_train['out_score_cat'] + df_train['in_score_cat']\n",
    "df_test['total_score_cat'] = df_test['out_score_cat'] + df_test['in_score_cat']\n",
    "\n",
    "# 침실 점수 (cat)\n",
    "df_train['bedrooms_score_cat'] = df_train['bedrooms'] * df_train['grade_cat']\n",
    "df_test['bedrooms_score_cat'] = df_test['bedrooms'] * df_test['grade_cat']\n",
    "\n",
    "# 화장실 점수 (cat)\n",
    "df_train['bathrrooms_score_cat'] = df_train['bathrooms'] * df_train['grade_cat']\n",
    "df_test['bathrrooms_score_cat'] = df_test['bathrooms'] * df_test['grade_cat']\n",
    "\n",
    "# 방 점수 (cat)\n",
    "df_train['totalrooms_score_cat'] = df_train['totalrooms'] * df_train['grade_cat']\n",
    "df_test['totalrooms_score_cat'] = df_test['totalrooms'] * df_test['grade_cat']"
   ]
  },
  {
   "cell_type": "code",
   "execution_count": 28,
   "metadata": {},
   "outputs": [
    {
     "name": "stdout",
     "output_type": "stream",
     "text": [
      "sqft_living        1.492323\n",
      "sqft_lot          13.349168\n",
      "sqft_above         1.428928\n",
      "sqft_basement      1.556400\n",
      "long               0.917900\n",
      "sqft_living15      1.125820\n",
      "sqft_lot15        10.027411\n",
      "is_renovated       4.568486\n",
      "living15_ratio     2.138650\n",
      "lot15_ratio       30.496643\n",
      "dtype: float64\n"
     ]
    }
   ],
   "source": [
    "numeric_feats = df_train.dtypes[df_train.dtypes != \"object\"].index\n",
    "\n",
    "skewed_feats = df_train[numeric_feats].apply(lambda x: stats.skew(x)) #compute skewness\n",
    "skewed_feats = skewed_feats[skewed_feats > 0.75]\n",
    "print(skewed_feats)"
   ]
  },
  {
   "cell_type": "code",
   "execution_count": null,
   "metadata": {},
   "outputs": [],
   "source": [
    "numeric_feats = df_train.dtypes[df_train.dtypes != \"object\"].index\n",
    "obj_feats = df_train.dtypes[df_train.dtypes == 'object'].index\n",
    "\n",
    "print(obj_feats)"
   ]
  },
  {
   "cell_type": "code",
   "execution_count": null,
   "metadata": {},
   "outputs": [],
   "source": [
    "def boxplot(x, y, **kwargs):\n",
    "    sns.boxplot(x=x, y=y)\n",
    "    x=plt.xticks(rotation=90)\n",
    "    \n",
    "f = pd.melt(df_train, id_vars=['price'], value_vars=obj_feats)\n",
    "g = sns.FacetGrid(f, col=\"variable\",  col_wrap=2, sharex=False, sharey=False, height=5)\n",
    "g = g.map(boxplot, \"value\", \"price\")"
   ]
  },
  {
   "cell_type": "code",
   "execution_count": null,
   "metadata": {},
   "outputs": [],
   "source": [
    "# 정규화\n",
    "skew_columns = ['sqft_living','sqft_lot', 'sqft_above', 'sqft_basement', 'sqft_living15', 'sqft_lot15', 'living15_ratio', 'lot15_ratio']\n",
    "for col in skew_columns:\n",
    "    df_train[col] = df_train[col].map(lambda x: np.log1p(x))\n",
    "    df_test[col] = df_test[col].map(lambda x: np.log1p(x))"
   ]
  },
  {
   "cell_type": "code",
   "execution_count": 30,
   "metadata": {},
   "outputs": [],
   "source": [
    "model_xgb = xgb.XGBClassifier()"
   ]
  },
  {
   "cell_type": "code",
   "execution_count": 31,
   "metadata": {},
   "outputs": [
    {
     "data": {
      "text/plain": [
       "XGBClassifier(base_score=0.5, booster='gbtree', colsample_bylevel=1,\n",
       "       colsample_bytree=1, gamma=0, learning_rate=0.1, max_delta_step=0,\n",
       "       max_depth=3, min_child_weight=1, missing=None, n_estimators=100,\n",
       "       n_jobs=1, nthread=None, objective='binary:logistic', random_state=0,\n",
       "       reg_alpha=0, reg_lambda=1, scale_pos_weight=1, seed=None,\n",
       "       silent=True, subsample=1)"
      ]
     },
     "execution_count": 31,
     "metadata": {},
     "output_type": "execute_result"
    }
   ],
   "source": [
    "model_xgb"
   ]
  },
  {
   "cell_type": "code",
   "execution_count": null,
   "metadata": {},
   "outputs": [],
   "source": []
  },
  {
   "cell_type": "code",
   "execution_count": null,
   "metadata": {},
   "outputs": [],
   "source": []
  },
  {
   "cell_type": "code",
   "execution_count": null,
   "metadata": {},
   "outputs": [],
   "source": []
  },
  {
   "cell_type": "code",
   "execution_count": null,
   "metadata": {},
   "outputs": [],
   "source": []
  },
  {
   "cell_type": "code",
   "execution_count": null,
   "metadata": {},
   "outputs": [],
   "source": []
  },
  {
   "cell_type": "code",
   "execution_count": null,
   "metadata": {},
   "outputs": [],
   "source": []
  },
  {
   "cell_type": "code",
   "execution_count": null,
   "metadata": {},
   "outputs": [],
   "source": []
  },
  {
   "cell_type": "code",
   "execution_count": null,
   "metadata": {},
   "outputs": [],
   "source": []
  },
  {
   "cell_type": "code",
   "execution_count": null,
   "metadata": {},
   "outputs": [],
   "source": []
  },
  {
   "cell_type": "code",
   "execution_count": null,
   "metadata": {},
   "outputs": [],
   "source": []
  },
  {
   "cell_type": "code",
   "execution_count": null,
   "metadata": {},
   "outputs": [],
   "source": []
  },
  {
   "cell_type": "code",
   "execution_count": null,
   "metadata": {},
   "outputs": [],
   "source": []
  },
  {
   "cell_type": "code",
   "execution_count": null,
   "metadata": {},
   "outputs": [],
   "source": []
  },
  {
   "cell_type": "code",
   "execution_count": null,
   "metadata": {},
   "outputs": [],
   "source": []
  },
  {
   "cell_type": "code",
   "execution_count": null,
   "metadata": {},
   "outputs": [],
   "source": []
  },
  {
   "cell_type": "code",
   "execution_count": null,
   "metadata": {},
   "outputs": [],
   "source": []
  },
  {
   "cell_type": "code",
   "execution_count": null,
   "metadata": {},
   "outputs": [],
   "source": []
  },
  {
   "cell_type": "code",
   "execution_count": 103,
   "metadata": {},
   "outputs": [],
   "source": [
    "model_lasso = LassoCV(alphas = [1, 0.1, 0.05, 0.01, 0.005, 0.003], cv=5).fit(X_train, Y_train)"
   ]
  },
  {
   "cell_type": "code",
   "execution_count": 104,
   "metadata": {},
   "outputs": [
    {
     "data": {
      "text/plain": [
       "0.2530234276331788"
      ]
     },
     "execution_count": 104,
     "metadata": {},
     "output_type": "execute_result"
    }
   ],
   "source": [
    "rmse_cv(model_lasso).mean()"
   ]
  },
  {
   "cell_type": "code",
   "execution_count": 105,
   "metadata": {},
   "outputs": [
    {
     "name": "stdout",
     "output_type": "stream",
     "text": [
      "Lasso picked 18 variables and eliminated the other 10 variables\n"
     ]
    }
   ],
   "source": [
    "coef = pd.Series(model_lasso.coef_, index = X_train.columns)\n",
    "print(\"Lasso picked \" + str(sum(coef != 0)) + \" variables and eliminated the other \" + str(sum(coef == 0)) + \" variables\")"
   ]
  },
  {
   "cell_type": "code",
   "execution_count": 108,
   "metadata": {},
   "outputs": [],
   "source": [
    "imp_coef = pd.concat([coef.sort_values()])"
   ]
  },
  {
   "cell_type": "code",
   "execution_count": 109,
   "metadata": {},
   "outputs": [
    {
     "data": {
      "text/plain": [
       "Text(0.5, 1.0, 'Coefficients in the Lasso Model')"
      ]
     },
     "execution_count": 109,
     "metadata": {},
     "output_type": "execute_result"
    },
    {
     "data": {
      "image/png": "[encoded data removed]",
      "text/plain": [
       "<Figure size 576x720 with 1 Axes>"
      ]
     },
     "metadata": {
      "needs_background": "light"
     },
     "output_type": "display_data"
    }
   ],
   "source": [
    "matplotlib.rcParams['figure.figsize'] = (8.0, 10.0)\n",
    "imp_coef.plot(kind='barh')\n",
    "plt.title(\"Coefficients in the Lasso Model\")"
   ]
  },
  {
   "cell_type": "code",
   "execution_count": 111,
   "metadata": {},
   "outputs": [
    {
     "data": {
      "text/plain": [
       "<matplotlib.axes._subplots.AxesSubplot at 0x1b607867828>"
      ]
     },
     "execution_count": 111,
     "metadata": {},
     "output_type": "execute_result"
    },
    {
     "data": {
      "image/png": "[encoded data removed]",
      "text/plain": [
       "<Figure size 432x432 with 1 Axes>"
      ]
     },
     "metadata": {
      "needs_background": "light"
     },
     "output_type": "display_data"
    }
   ],
   "source": [
    "matplotlib.rcParams['figure.figsize'] = (6.0, 6.0)\n",
    "\n",
    "preds = pd.DataFrame({\"preds\": model_lasso.predict(X_train), \"True\": Y_train})\n",
    "preds['residuals'] = preds['True'] - preds['preds']\n",
    "preds.plot(x = 'preds', y = 'residuals', kind='scatter')"
   ]
  },
  {
   "cell_type": "code",
   "execution_count": null,
   "metadata": {},
   "outputs": [],
   "source": []
  }
 ],
 "metadata": {
  "kernelspec": {
   "display_name": "Python 3",
   "language": "python",
   "name": "python3"
  },
  "language_info": {
   "codemirror_mode": {
    "name": "ipython",
    "version": 3
   },
   "file_extension": ".py",
   "mimetype": "text/x-python",
   "name": "python",
   "nbconvert_exporter": "python",
   "pygments_lexer": "ipython3",
   "version": "3.6.7"
  }
 },
 "nbformat": 4,
 "nbformat_minor": 2
}
