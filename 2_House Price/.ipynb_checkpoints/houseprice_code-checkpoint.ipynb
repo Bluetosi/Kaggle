{
 "cells": [
  {
   "cell_type": "code",
   "execution_count": 1,
   "metadata": {},
   "outputs": [],
   "source": [
    "import numpy as np\n",
    "import pandas as pd\n",
    "\n",
    "from sklearn.linear_model import RidgeCV, ElasticNetCV\n",
    "from sklearn.pipeline import make_pipeline\n",
    "from sklearn.preprocessing import RobustScaler\n",
    "from sklearn.ensemble import GradientBoostingRegressor\n",
    "from sklearn.model_selection import KFold, cross_val_score\n",
    "from sklearn.metrics import mean_squared_error\n",
    "import lightgbm as lgb\n",
    "from sklearn.base import BaseEstimator, TransformerMixin, RegressorMixin, clone\n",
    "\n",
    "# Origin\n",
    "ori_train = pd.read_csv('./Input/train.csv')\n",
    "ori_test = pd.read_csv('./Input/test.csv')\n",
    "\n",
    "# Data Load\n",
    "df_train = pd.read_csv('./Input/train.csv')\n",
    "df_test = pd.read_csv('./Input/test.csv')\n",
    "\n",
    "# 이상치 제거\n",
    "df_train = df_train.loc[df_train['id']!=456] # grade\n",
    "df_train = df_train.loc[df_train['id']!=2777] # grade\n",
    "df_train = df_train.loc[df_train['id']!=7259] # grade\n",
    "df_train = df_train.loc[df_train['id']!=8990] # sqft_living\n",
    "df_train = df_train.loc[df_train['id']!=1231] # living_ratio\n",
    "df_train = df_train.loc[df_train['id']!=12209] # living_ratio\n",
    "df_train = df_train.loc[df_train['id']!=12781] # living_ratio\n",
    "\n",
    "# ID 처리\n",
    "df_train.drop('id', axis=1, inplace=True)\n",
    "df_test.drop('id', axis=1, inplace=True)\n",
    "\n",
    "# 가격 정규화 (np.log1p)\n",
    "df_train['price'] = df_train['price'].map(lambda x: np.log1p(x))\n",
    "\n",
    "# 날짜 변경 (년.월.일)\n",
    "df_train['date'] = df_train['date'].apply(lambda x: str(x[0:6])).astype(int)\n",
    "df_test['date'] = df_test['date'].apply(lambda x: str(x[0:6])).astype(int)\n",
    "\n",
    "# sqft_living 정규화 (np.log1p)\n",
    "df_train['sqft_living'] = df_train['sqft_living'].map(lambda x: np.log1p(x))\n",
    "df_test['sqft_living'] = df_test['sqft_living'].map(lambda x: np.log1p(x))\n",
    "\n",
    "# sqft_lot 정규화 (np.log1p)\n",
    "df_train['sqft_lot'] = df_train['sqft_lot'].map(lambda x: np.log1p(x))\n",
    "df_test['sqft_lot'] = df_test['sqft_lot'].map(lambda x: np.log1p(x))\n",
    "\n",
    "# sqft_above 정규화 (np.log1p)\n",
    "df_train['sqft_above'] = df_train['sqft_above'].map(lambda x: np.log1p(x))\n",
    "df_test['sqft_above'] = df_test['sqft_above'].map(lambda x: np.log1p(x))\n",
    "\n",
    "# sqft_basement 정규화 (np.log1p)\n",
    "df_train['sqft_basement'] = df_train['sqft_basement'].map(lambda x: np.log1p(x))\n",
    "df_test['sqft_basement'] = df_test['sqft_basement'].map(lambda x: np.log1p(x))\n",
    "\n",
    "# yr_renovated\n",
    "df_train['is_renovated'] = df_train['yr_renovated'].map(lambda x: 1 if x > 0 else 0)\n",
    "df_test['is_renovated'] = df_test['yr_renovated'].map(lambda x: 1 if x > 0 else 0)\n",
    "\n",
    "## 데이터 생성\n",
    "\n",
    "# 방의 총 갯수\n",
    "df_train['totalrooms'] = df_train['bedrooms'] + df_train['bathrooms']\n",
    "df_test['totalrooms'] = df_test['bedrooms'] + df_test['bathrooms']\n",
    "\n",
    "# 방 면적 비율\n",
    "df_train['sqft_room'] = np.round(df_train['sqft_living']/df_train['totalrooms'])\n",
    "df_train['sqft_room'] = df_train['sqft_room'].map(lambda x: x if np.isfinite(x) else 0)\n",
    "df_test['sqft_room'] = np.round(df_test['sqft_living']/df_test['totalrooms'])\n",
    "df_test['sqft_room'] = df_test['sqft_room'].map(lambda x: x if np.isfinite(x) else 0)\n",
    "\n",
    "# 주거 공간 활용 비율\n",
    "df_train['living_ratio'] = df_train['sqft_living']/df_train['sqft_lot']\n",
    "df_train['living_ratio'] = df_train['living_ratio'].map(lambda x: np.log1p(x))\n",
    "df_test['living_ratio'] = df_test['sqft_living']/df_test['sqft_lot']\n",
    "df_test['living_ratio'] = df_test['living_ratio'].map(lambda x: np.log1p(x))\n",
    "\n",
    "# 집의 외형적 평가\n",
    "df_train['grade_look'] = (df_train['view']+1)*df_train['condition']\n",
    "df_test['grade_look'] = (df_test['view']+1)*df_test['condition']\n",
    "\n",
    "# One-hot encoding\n",
    "df_train = pd.get_dummies(df_train, columns=['waterfront'], prefix='waterfront')\n",
    "#df_train = pd.get_dummies(df_train, columns=['view'], prefix='view')\n",
    "df_test = pd.get_dummies(df_test, columns=['waterfront'], prefix='waterfront')\n",
    "#df_test = pd.get_dummies(df_test, columns=['view'], prefix='view')\n",
    "\n",
    "# Drop features\n",
    "df_train.drop(['yr_renovated'], axis=1, inplace=True)\n",
    "df_test.drop(['yr_renovated'], axis=1, inplace=True)\n",
    "\n",
    "# 값 나누기\n",
    "Y_train = df_train['price']\n",
    "df_train.drop('price', axis=1, inplace=True)\n",
    "X_train = df_train\n",
    "X_test = df_test"
   ]
  },
  {
   "cell_type": "code",
   "execution_count": 2,
   "metadata": {},
   "outputs": [],
   "source": [
    "# Cross validation strategy\n",
    "n_folds = 5\n",
    "kf = KFold(n_splits=n_folds, shuffle=True, random_state=42)\n",
    "\n",
    "def cv_score(model):\n",
    "    print(\"Model CV score : {:.4f}\".format(np.mean(cross_val_score(model, X_train, Y_train)), \n",
    "                                         kf=kfold))\n",
    "\n",
    "def rmsle_cv(model):\n",
    "    rmse = np.sqrt(-cross_val_score(model, X_train, Y_train, scoring=\"neg_mean_squared_error\", cv=kf))\n",
    "    return rmse\n",
    "    \n",
    "def rmsle(y, y_pred):\n",
    "    return np.sqrt(mean_squared_error(y, y_pred))\n",
    "\n",
    "class AveragingModels(BaseEstimator, RegressorMixin, TransformerMixin):\n",
    "    def __init__(self, models):\n",
    "        self.models = models\n",
    "        \n",
    "    def fit(self, X, y):\n",
    "        self.models_ = [clone(x) for x in self.models]\n",
    "        \n",
    "        for model in self.models_:\n",
    "            model.fit(X, y)\n",
    "        return self\n",
    "    \n",
    "    def predict(self, X):\n",
    "        predictions = np.column_stack([model.predict(X) for model in self.models_])\n",
    "        return np.mean(predictions, axis=1)"
   ]
  },
  {
   "cell_type": "code",
   "execution_count": 8,
   "metadata": {},
   "outputs": [],
   "source": [
    "ridge = make_pipeline(RobustScaler(), RidgeCV(alphas=[5.5, 5.6, 5.7, 5.8, 5.9, 6.0, 6.1, 6.2, 6.3, 6.4, 6.5], cv=kf))\n",
    "ENet = make_pipeline(RobustScaler(), ElasticNetCV(alphas=[0.0002, 0.0003, 0.0004, 0.0005], l1_ratio=[0.8, 0.85, 0.9, 0.95, 0.99, 1], cv=kf, random_state=42))\n",
    "gboost = GradientBoostingRegressor(n_estimators=3000, learning_rate=0.05, max_depth=4, max_features=\"sqrt\", min_samples_leaf=15, min_samples_split=10, loss=\"huber\", random_state=42)\n",
    "model_lgb = lgb.LGBMRegressor(n_estimators=5000, learning_rate=0.01, max_depth=4, objective='regression', num_leaves=31, min_data_in_leaf=30, min_child_samples=20, boosting=\"gbdt\", feature_fraction=0.9, bagging_freq=1, bagging_fraction=0.9, bagging_seed=11, metric='rmse', lambda_l1=0.1, nthread=4, random_state=4950)\n",
    "averaged_models = AveragingModels(models = (gboost, model_lgb))"
   ]
  },
  {
   "cell_type": "code",
   "execution_count": 8,
   "metadata": {},
   "outputs": [
    {
     "name": "stdout",
     "output_type": "stream",
     "text": [
      "Ridge score: 0.2467 (0.0027)\n",
      "\n"
     ]
    },
    {
     "name": "stderr",
     "output_type": "stream",
     "text": [
      "C:\\Program Files\\Python36\\lib\\site-packages\\sklearn\\linear_model\\coordinate_descent.py:492: ConvergenceWarning: Objective did not converge. You might want to increase the number of iterations. Fitting data with very small alpha may cause precision problems.\n",
      "  ConvergenceWarning)\n"
     ]
    },
    {
     "name": "stdout",
     "output_type": "stream",
     "text": [
      "ENet score: 0.2468 (0.0027)\n",
      "\n",
      "Gradient Boosting score: 0.1597 (0.0041)\n",
      "\n",
      "LGBM score: 0.1596 (0.0033)\n",
      "\n",
      "Averaged base models score: 0.1580 (0.0037)\n",
      "\n"
     ]
    }
   ],
   "source": [
    "score = rmsle_cv(ridge)\n",
    "print(\"Ridge score: {:.4f} ({:.4f})\\n\".format(score.mean(), score.std()))\n",
    "score2 = rmsle_cv(ENet)\n",
    "print(\"ENet score: {:.4f} ({:.4f})\\n\".format(score2.mean(), score2.std()))\n",
    "score3 = rmsle_cv(gboost)\n",
    "print(\"Gradient Boosting score: {:.4f} ({:.4f})\\n\".format(score3.mean(), score3.std()))\n",
    "score4 = rmsle_cv(model_lgb)\n",
    "print(\"LGBM score: {:.4f} ({:.4f})\\n\".format(score4.mean(), score4.std()))\n",
    "score5 = rmsle_cv(averaged_models)\n",
    "print(\"Averaged base models score: {:.4f} ({:.4f})\\n\".format(score5.mean(), score5.std()))"
   ]
  },
  {
   "cell_type": "code",
   "execution_count": 9,
   "metadata": {},
   "outputs": [
    {
     "name": "stdout",
     "output_type": "stream",
     "text": [
      "0.12428037088585667\n"
     ]
    }
   ],
   "source": [
    "gboost.fit(X_train, Y_train)\n",
    "gboost_train_pred = gboost.predict(X_train)\n",
    "gboost_pred = np.expm1(gboost.predict(X_test))\n",
    "print(rmsle(Y_train, gboost_train_pred))"
   ]
  },
  {
   "cell_type": "code",
   "execution_count": 10,
   "metadata": {},
   "outputs": [
    {
     "name": "stdout",
     "output_type": "stream",
     "text": [
      "0.12848872954286486\n"
     ]
    }
   ],
   "source": [
    "model_lgb.fit(X_train, Y_train)\n",
    "lgb_train_pred = model_lgb.predict(X_train)\n",
    "lgb_pred = np.expm1(model_lgb.predict(X_test))\n",
    "print(rmsle(Y_train, lgb_train_pred))"
   ]
  },
  {
   "cell_type": "code",
   "execution_count": 11,
   "metadata": {},
   "outputs": [
    {
     "name": "stdout",
     "output_type": "stream",
     "text": [
      "0.11960978075614993\n"
     ]
    }
   ],
   "source": [
    "averaged_models.fit(X_train, Y_train)\n",
    "avg_train_pred = averaged_models.predict(X_train)\n",
    "avg_pred = np.expm1(averaged_models.predict(X_test))\n",
    "print(rmsle(Y_train, avg_train_pred))"
   ]
  },
  {
   "cell_type": "code",
   "execution_count": null,
   "metadata": {},
   "outputs": [],
   "source": [
    "ensemble_train_pred = gboost_train_pred * 0.7 + lgb_train_pred * 0.15 + avg_train_pred * 0.15\n",
    "ensemble_pred = gboost_pred * 0.7 + lgb_pred * 0.15 + avg_pred * 0.15\n",
    "print(rmsle(Y_train, ensemble_train_pred))"
   ]
  },
  {
   "cell_type": "code",
   "execution_count": 7,
   "metadata": {},
   "outputs": [
    {
     "ename": "NameError",
     "evalue": "name 'lgb_pred' is not defined",
     "output_type": "error",
     "traceback": [
      "\u001b[1;31m---------------------------------------------------------------------------\u001b[0m",
      "\u001b[1;31mNameError\u001b[0m                                 Traceback (most recent call last)",
      "\u001b[1;32m<ipython-input-7-6c2f27c447c3>\u001b[0m in \u001b[0;36m<module>\u001b[1;34m\u001b[0m\n\u001b[0;32m      3\u001b[0m \u001b[0msubmission1\u001b[0m\u001b[1;33m.\u001b[0m\u001b[0mto_csv\u001b[0m\u001b[1;33m(\u001b[0m\u001b[1;34m'./Output/submission_gboost.csv'\u001b[0m\u001b[1;33m,\u001b[0m \u001b[0mindex\u001b[0m\u001b[1;33m=\u001b[0m\u001b[1;32mFalse\u001b[0m\u001b[1;33m)\u001b[0m\u001b[1;33m\u001b[0m\u001b[0m\n\u001b[0;32m      4\u001b[0m \u001b[0msubmission2\u001b[0m \u001b[1;33m=\u001b[0m \u001b[0mpd\u001b[0m\u001b[1;33m.\u001b[0m\u001b[0mread_csv\u001b[0m\u001b[1;33m(\u001b[0m\u001b[1;34m'./Input/sample_submission.csv'\u001b[0m\u001b[1;33m)\u001b[0m\u001b[1;33m\u001b[0m\u001b[0m\n\u001b[1;32m----> 5\u001b[1;33m \u001b[0msubmission2\u001b[0m\u001b[1;33m[\u001b[0m\u001b[1;34m'price'\u001b[0m\u001b[1;33m]\u001b[0m \u001b[1;33m=\u001b[0m \u001b[0mlgb_pred\u001b[0m\u001b[1;33m\u001b[0m\u001b[0m\n\u001b[0m\u001b[0;32m      6\u001b[0m \u001b[0msubmission2\u001b[0m\u001b[1;33m.\u001b[0m\u001b[0mto_csv\u001b[0m\u001b[1;33m(\u001b[0m\u001b[1;34m'./Output/submission_lgb.csv'\u001b[0m\u001b[1;33m,\u001b[0m \u001b[0mindex\u001b[0m\u001b[1;33m=\u001b[0m\u001b[1;32mFalse\u001b[0m\u001b[1;33m)\u001b[0m\u001b[1;33m\u001b[0m\u001b[0m\n\u001b[0;32m      7\u001b[0m \u001b[0msubmission3\u001b[0m \u001b[1;33m=\u001b[0m \u001b[0mpd\u001b[0m\u001b[1;33m.\u001b[0m\u001b[0mread_csv\u001b[0m\u001b[1;33m(\u001b[0m\u001b[1;34m'./Input/sample_submission.csv'\u001b[0m\u001b[1;33m)\u001b[0m\u001b[1;33m\u001b[0m\u001b[0m\n",
      "\u001b[1;31mNameError\u001b[0m: name 'lgb_pred' is not defined"
     ]
    }
   ],
   "source": [
    "submission1 = pd.read_csv('./Input/sample_submission.csv')\n",
    "submission1['price'] = gboost_pred\n",
    "submission1.to_csv('./Output/submission_gboost.csv', index=False)\n",
    "submission2 = pd.read_csv('./Input/sample_submission.csv')\n",
    "submission2['price'] = lgb_pred\n",
    "submission2.to_csv('./Output/submission_lgb.csv', index=False)\n",
    "submission3 = pd.read_csv('./Input/sample_submission.csv')\n",
    "submission3['price'] = avg_pred\n",
    "submission3.to_csv('./Output/submission_avg.csv', index=False)\n",
    "submission4 = pd.read_csv('./Input/sample_submission.csv')\n",
    "submission4['price'] = ensemble_pred\n",
    "submission4.to_csv('./Output/submission_ensemble.csv', index=False)"
   ]
  },
  {
   "cell_type": "code",
   "execution_count": null,
   "metadata": {},
   "outputs": [],
   "source": []
  }
 ],
 "metadata": {
  "kernelspec": {
   "display_name": "Python 3",
   "language": "python",
   "name": "python3"
  },
  "language_info": {
   "codemirror_mode": {
    "name": "ipython",
    "version": 3
   },
   "file_extension": ".py",
   "mimetype": "text/x-python",
   "name": "python",
   "nbconvert_exporter": "python",
   "pygments_lexer": "ipython3",
   "version": "3.6.5"
  }
 },
 "nbformat": 4,
 "nbformat_minor": 2
}
