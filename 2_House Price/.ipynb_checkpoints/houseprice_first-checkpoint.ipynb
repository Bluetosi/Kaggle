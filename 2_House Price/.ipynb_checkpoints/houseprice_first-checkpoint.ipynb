{
 "cells": [
  {
   "cell_type": "code",
   "execution_count": 95,
   "metadata": {},
   "outputs": [],
   "source": [
    "import numpy as np\n",
    "import pandas as pd\n",
    "import missingno as msno\n",
    "\n",
    "import matplotlib.pyplot as plt\n",
    "import seaborn as sns\n",
    "\n",
    "from keras import models\n",
    "from keras import layers\n",
    "\n",
    "from sklearn.linear_model import ElasticNet\n",
    "from sklearn.pipeline import make_pipeline\n",
    "from sklearn.preprocessing import RobustScaler\n",
    "from sklearn.ensemble import GradientBoostingRegressor\n",
    "from sklearn.model_selection import KFold, cross_val_score\n",
    "from sklearn.metrics import mean_squared_error\n",
    "import xgboost as xgb\n",
    "import lightgbm as lgb\n",
    "from sklearn.base import BaseEstimator, TransformerMixin, RegressorMixin, clone\n",
    "\n",
    "# Origin\n",
    "ori_train = pd.read_csv('./Input/train.csv')\n",
    "ori_test = pd.read_csv('./Input/test.csv')\n",
    "\n",
    "# Data Load\n",
    "df_train = pd.read_csv('./Input/train.csv')\n",
    "df_test = pd.read_csv('./Input/test.csv')\n",
    "\n",
    "# grade, sqft_living, lat, totalrooms, floors, view, waterfront, condition, yr_built_mod, living_ratio_norm\n",
    "# ID 처리\n",
    "df_train.drop('id', axis=1, inplace=True)\n",
    "df_test.drop('id', axis=1, inplace=True)\n",
    "\n",
    "# 가격 norm\n",
    "df_train['price'] = df_train['price'].map(lambda x: np.log1p(x))\n",
    "\n",
    "# 날짜 변경 (년.월.일)\n",
    "df_train['date'] = df_train['date'].apply(lambda x: str(x[2:8])).astype(int)\n",
    "df_test['date'] = df_test['date'].apply(lambda x: str(x[2:8])).astype(int)\n",
    "\n",
    "# grade\n",
    "df_train = df_train.loc[df_train['grade'] != 3]\n",
    "\n",
    "# sqft_living norm\n",
    "df_train = df_train.loc[df_train['sqft_living'] < 13000]\n",
    "df_train['sqft_living'] = df_train['sqft_living'].map(lambda x: np.log1p(x))\n",
    "df_test['sqft_living'] = df_test['sqft_living'].map(lambda x: np.log1p(x))\n",
    "\n",
    "# sqft_lot norm\n",
    "df_train['sqft_lot'] = df_train['sqft_lot'].map(lambda x: np.log1p(x))\n",
    "df_test['sqft_lot'] = df_test['sqft_lot'].map(lambda x: np.log1p(x))\n",
    "\n",
    "# sqft_above\n",
    "df_train['sqft_above'] = df_train['sqft_above'].map(lambda x: np.log1p(x))\n",
    "df_test['sqft_above'] = df_test['sqft_above'].map(lambda x: np.log1p(x))\n",
    "\n",
    "# sqft_basement\n",
    "df_train['sqft_basement'] = df_train['sqft_basement'].map(lambda x: np.log1p(x))\n",
    "df_test['sqft_basement'] = df_test['sqft_basement'].map(lambda x: np.log1p(x))\n",
    "\n",
    "# bedrooms\n",
    "df_train['bedrooms'] = df_train['bedrooms'].map(lambda x: np.log1p(x))\n",
    "df_test['bedrooms'] = df_test['bedrooms'].map(lambda x: np.log1p(x))\n",
    "\n",
    "# Total rooms\n",
    "df_train['totalrooms'] = df_train['bedrooms'] + df_train['bathrooms']\n",
    "df_test['totalrooms'] = df_test['bedrooms'] + df_test['bathrooms']\n",
    "\n",
    "# yr_built_mod\n",
    "df_train['yr_built'] = df_train['yr_built'] - 1900\n",
    "df_test['yr_built'] = df_test['yr_built'] - 1900\n",
    "\n",
    "# yr_renovated_bool\n",
    "df_train['yr_renovated'] = df_train['yr_renovated'].map(lambda x: 1 if x > 0 else 0)\n",
    "df_test['yr_renovated'] = df_test['yr_renovated'].map(lambda x: 1 if x > 0 else 0)\n",
    "\n",
    "## 부지 당 주거 공간 활용 비율\n",
    "#data['living_ratio'] = (data['sqft_living']/data['sqft_lot'])/data['floors']\n",
    "#data['living_ratio_norm'] = data['living_ratio'].map(lambda x: np.log1p(x) if x > 0 else 0)\n",
    "\n",
    "# One-hot encoding\n",
    "df_train = pd.get_dummies(df_train, columns=['waterfront'], prefix='waterfront')\n",
    "df_test = pd.get_dummies(df_test, columns=['waterfront'], prefix='waterfront')\n",
    "\n",
    "# Drop features\n",
    "df_train.drop(['zipcode', 'long', 'sqft_living15', 'sqft_lot15'], axis=1, inplace=True)\n",
    "df_test.drop(['zipcode', 'long', 'sqft_living15', 'sqft_lot15'], axis=1, inplace=True)\n",
    "\n",
    "# 값 나누기\n",
    "Y_train = df_train['price']\n",
    "df_train.drop('price', axis=1, inplace=True)\n",
    "X_train = df_train\n",
    "X_test = df_test"
   ]
  },
  {
   "cell_type": "code",
   "execution_count": 96,
   "metadata": {},
   "outputs": [],
   "source": [
    "# Cross validation strategy\n",
    "n_folds = 4\n",
    "\n",
    "def rmsle_cv(model):\n",
    "    kf = KFold(n_folds, shuffle=True, random_state=9).get_n_splits(X_train.values)\n",
    "    rmse = np.sqrt(-cross_val_score(model, X_train.values, Y_train, scoring=\"neg_mean_squared_error\", cv=kf))\n",
    "    return rmse\n",
    "    \n",
    "def rmsle(y, y_pred):\n",
    "    return np.sqrt(mean_squared_error(y, y_pred))\n",
    "\n",
    "class AveragingModels(BaseEstimator, RegressorMixin, TransformerMixin):\n",
    "    def __init__(self, models):\n",
    "        self.models = models\n",
    "        \n",
    "    def fit(self, X, y):\n",
    "        self.models_ = [clone(x) for x in self.models]\n",
    "        \n",
    "        for model in self.models_:\n",
    "            model.fit(X, y)\n",
    "        return self\n",
    "    \n",
    "    def predict(self, X):\n",
    "        predictions = np.column_stack([model.predict(X) for model in self.models_])\n",
    "        return np.mean(predictions, axis=1)"
   ]
  },
  {
   "cell_type": "code",
   "execution_count": 98,
   "metadata": {},
   "outputs": [],
   "source": [
    "ENet = make_pipeline(RobustScaler(), ElasticNet(alpha=0.0005, l1_ratio=0.9, random_state=9))\n",
    "gboost = GradientBoostingRegressor(n_estimators=3000, learning_rate=0.05, max_depth=3, max_features=\"sqrt\", min_samples_leaf=15, min_samples_split=10, loss=\"huber\", random_state=9)\n",
    "model_lgb = lgb.LGBMRegressor(objective='regression', num_leaves=5, learning_rate=0.05, n_estimators=720, random_state=9)\n",
    "model_xgb = xbg.XGBRegressor(random_state=2019)\n",
    "averaged_models = AveragingModels(models = (ENet, gboost, model_lgb))"
   ]
  },
  {
   "cell_type": "code",
   "execution_count": 99,
   "metadata": {},
   "outputs": [
    {
     "name": "stdout",
     "output_type": "stream",
     "text": [
      "ENet score: 0.2545 (0.0030)\n",
      "\n",
      "Gradient Boosting score: 0.1872 (0.0044)\n",
      "\n",
      "LGBM score: 0.1901 (0.0039)\n",
      "\n",
      "Averaged base models score: 0.1954 (0.0037)\n",
      "\n"
     ]
    }
   ],
   "source": [
    "score2 = rmsle_cv(ENet)\n",
    "print(\"ENet score: {:.4f} ({:.4f})\\n\".format(score2.mean(), score2.std()))\n",
    "score3 = rmsle_cv(gboost)\n",
    "print(\"Gradient Boosting score: {:.4f} ({:.4f})\\n\".format(score3.mean(), score3.std()))\n",
    "score4 = rmsle_cv(model_lgb)\n",
    "print(\"LGBM score: {:.4f} ({:.4f})\\n\".format(score4.mean(), score4.std()))\n",
    "score = rmsle_cv(averaged_models)\n",
    "print(\"Averaged base models score: {:.4f} ({:.4f})\\n\".format(score.mean(), score.std()))"
   ]
  },
  {
   "cell_type": "code",
   "execution_count": 100,
   "metadata": {},
   "outputs": [
    {
     "name": "stdout",
     "output_type": "stream",
     "text": [
      "0.18210413897562874\n"
     ]
    }
   ],
   "source": [
    "averaged_models.fit(X_train.values, Y_train)\n",
    "avg_train_pred = averaged_models.predict(X_train.values)\n",
    "avg_pred = np.expm1(averaged_models.predict(X_test.values))\n",
    "print(rmsle(Y_train, avg_train_pred))"
   ]
  },
  {
   "cell_type": "code",
   "execution_count": 94,
   "metadata": {},
   "outputs": [],
   "source": [
    "submission = pd.read_csv('./Input/sample_submission.csv')\n",
    "submission['price'] = avg_pred\n",
    "submission.to_csv('./Output/submission_6.csv', index=False)"
   ]
  },
  {
   "cell_type": "code",
   "execution_count": null,
   "metadata": {},
   "outputs": [],
   "source": []
  }
 ],
 "metadata": {
  "kernelspec": {
   "display_name": "Python 3",
   "language": "python",
   "name": "python3"
  },
  "language_info": {
   "codemirror_mode": {
    "name": "ipython",
    "version": 3
   },
   "file_extension": ".py",
   "mimetype": "text/x-python",
   "name": "python",
   "nbconvert_exporter": "python",
   "pygments_lexer": "ipython3",
   "version": "3.6.5"
  }
 },
 "nbformat": 4,
 "nbformat_minor": 2
}
